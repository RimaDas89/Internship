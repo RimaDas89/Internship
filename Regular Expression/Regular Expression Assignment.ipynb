{
 "cells": [
  {
   "cell_type": "markdown",
   "id": "fb41943b",
   "metadata": {},
   "source": [
    "# Regular Expressions"
   ]
  },
  {
   "cell_type": "markdown",
   "id": "520d8082",
   "metadata": {},
   "source": [
    "* Name:Rima Das\n",
    "* Batch: DS2306"
   ]
  },
  {
   "cell_type": "markdown",
   "id": "3a597726",
   "metadata": {},
   "source": [
    "### Importing Library"
   ]
  },
  {
   "cell_type": "code",
   "execution_count": 1,
   "id": "d96a42d9",
   "metadata": {},
   "outputs": [],
   "source": [
    "import regex as re"
   ]
  },
  {
   "cell_type": "markdown",
   "id": "ea7b05ad",
   "metadata": {},
   "source": [
    "## <u> Questions </u>"
   ]
  },
  {
   "cell_type": "markdown",
   "id": "6377177e",
   "metadata": {},
   "source": [
    "### 1. Write a Python program to check that a string contains only a certain set of characters (in this case a-z, A-Z and 0-9)."
   ]
  },
  {
   "cell_type": "code",
   "execution_count": 2,
   "id": "987dda34",
   "metadata": {},
   "outputs": [
    {
     "name": "stdout",
     "output_type": "stream",
     "text": [
      "['Data', 'science', 'combines', 'mathematics', 'computer', 'science', 'and', 'statistics', 'to', 'uncover', 'insights', 'from', 'large', 'datasets']\n"
     ]
    }
   ],
   "source": [
    "string = 'Data science combines mathematics, computer science, and statistics to uncover insights from large datasets'\n",
    "\n",
    "pattern = '[a-zA-z0-9]+'\n",
    "x = re.findall(pattern,string)\n",
    "print(x)"
   ]
  },
  {
   "cell_type": "code",
   "execution_count": 3,
   "id": "bf29afcb",
   "metadata": {},
   "outputs": [
    {
     "name": "stdout",
     "output_type": "stream",
     "text": [
      "['D', 'a', 't', 'a', 's', 'c', 'i', 'e', 'n', 'c', 'e', 'c', 'o', 'm', 'b', 'i', 'n', 'e', 's', 'm', 'a', 't', 'h', 'e', 'm', 'a', 't', 'i', 'c', 's', 'c', 'o', 'm', 'p', 'u', 't', 'e', 'r', 's', 'c', 'i', 'e', 'n', 'c', 'e', 'a', 'n', 'd', 's', 't', 'a', 't', 'i', 's', 't', 'i', 'c', 's', 't', 'o', 'u', 'n', 'c', 'o', 'v', 'e', 'r', 'i', 'n', 's', 'i', 'g', 'h', 't', 's', 'f', 'r', 'o', 'm', 'l', 'a', 'r', 'g', 'e', 'd', 'a', 't', 'a', 's', 'e', 't', 's']\n"
     ]
    }
   ],
   "source": [
    "string = 'Data science combines mathematics, computer science, and statistics to uncover insights from large datasets'\n",
    "pattern = '[a-zA-z0-9]'\n",
    "x = re.findall(pattern,string)\n",
    "print(x)"
   ]
  },
  {
   "cell_type": "markdown",
   "id": "1858b806",
   "metadata": {},
   "source": [
    "### 2. Create a function in python that matches a string that has an a followed by zero or more b's"
   ]
  },
  {
   "cell_type": "code",
   "execution_count": 4,
   "id": "157c1fb6",
   "metadata": {},
   "outputs": [
    {
     "name": "stdout",
     "output_type": "stream",
     "text": [
      "['a', 'a', 'ab']\n"
     ]
    }
   ],
   "source": [
    "strings = \"The water came above our knees.\"\n",
    "pattern = 'ab*'\n",
    "x = re.findall(pattern,strings)\n",
    "print(x)"
   ]
  },
  {
   "cell_type": "markdown",
   "id": "6acfd396",
   "metadata": {},
   "source": [
    "### 3. Create a function in python that matches a string that has an a followed by one or more b's"
   ]
  },
  {
   "cell_type": "code",
   "execution_count": 5,
   "id": "ceb10dc0",
   "metadata": {},
   "outputs": [
    {
     "name": "stdout",
     "output_type": "stream",
     "text": [
      "['abb', 'ab', 'ab', 'ab']\n"
     ]
    }
   ],
   "source": [
    "string = \"His backstabber ability allowed him to absorb all kinds of gossip about his enemies.\"\n",
    "pattern = 'ab+'\n",
    "x = re.findall(pattern, string)\n",
    "print(x)"
   ]
  },
  {
   "cell_type": "markdown",
   "id": "c8fe9ea3",
   "metadata": {},
   "source": [
    "### 4. Create a function in Python and use RegEx that matches a string that has an a followed by zero or one 'b'."
   ]
  },
  {
   "cell_type": "code",
   "execution_count": 6,
   "id": "d5baeb71",
   "metadata": {},
   "outputs": [
    {
     "name": "stdout",
     "output_type": "stream",
     "text": [
      "['ab', 'ab', 'a']\n"
     ]
    }
   ],
   "source": [
    "string = \"He couldn't help but blabber on about his exciting adventures during the weekend trip.\"\n",
    "pattern = 'ab?'\n",
    "x = re.findall(pattern, string)\n",
    "print(x)"
   ]
  },
  {
   "cell_type": "markdown",
   "id": "0b68304b",
   "metadata": {},
   "source": [
    "### 5.Write a Python program that matches a string that has an a followed by three 'b'."
   ]
  },
  {
   "cell_type": "code",
   "execution_count": 7,
   "id": "5f519904",
   "metadata": {},
   "outputs": [
    {
     "name": "stdout",
     "output_type": "stream",
     "text": [
      "None\n"
     ]
    }
   ],
   "source": [
    "string = \"She wore a bobble hat on her head to keep her warm.\"\n",
    "\n",
    "pattern = 'ab{3}'\n",
    "x = re.search(pattern, string)\n",
    "print(x)"
   ]
  },
  {
   "cell_type": "markdown",
   "id": "9d9803cb",
   "metadata": {},
   "source": [
    "### 6. Write a regular expression in Python to split a string into uppercase letters.\n",
    "\n",
    "* Sample text: “ImportanceOfRegularExpressionsInPython”\n",
    "* Output: [‘Importance’, ‘Of’, ‘Regular’, ‘Expression’, ‘In’, ‘Python’]"
   ]
  },
  {
   "cell_type": "code",
   "execution_count": 8,
   "id": "ee1eb5e2",
   "metadata": {},
   "outputs": [
    {
     "name": "stdout",
     "output_type": "stream",
     "text": [
      "['Importance', 'Of', 'Regular', 'Expressions', 'In', 'Python']\n"
     ]
    }
   ],
   "source": [
    "Sample_text = \"ImportanceOfRegularExpressionsInPython\"\n",
    "\n",
    "pattern = '[A-Z][a-z]*'\n",
    "x = re.findall(pattern,Sample_text)\n",
    "print(x)"
   ]
  },
  {
   "cell_type": "markdown",
   "id": "1391a50b",
   "metadata": {},
   "source": [
    "### 7. Write a Python program that matches a string that has an a followed by two to three 'b'."
   ]
  },
  {
   "cell_type": "code",
   "execution_count": 9,
   "id": "b5e4688b",
   "metadata": {},
   "outputs": [
    {
     "name": "stdout",
     "output_type": "stream",
     "text": [
      "['abb']\n"
     ]
    }
   ],
   "source": [
    "text = \"She was shocked to discover her close friend had been backstabbing her behind her back.\"\n",
    "pattern = 'ab{2,3}'\n",
    "x = re.findall(pattern, text)\n",
    "print(x)"
   ]
  },
  {
   "cell_type": "markdown",
   "id": "6750236d",
   "metadata": {},
   "source": [
    "### 8. Write a Python program to find sequences of lowercase letters joined with a underscore."
   ]
  },
  {
   "cell_type": "code",
   "execution_count": 10,
   "id": "61e742e2",
   "metadata": {},
   "outputs": [
    {
     "name": "stdout",
     "output_type": "stream",
     "text": [
      "['cvbnm_oiuytr']\n"
     ]
    }
   ],
   "source": [
    "text = \"cvbnm_oiuytr\"\n",
    "pattern = '^[a-z]+\\_[a-z]+$'\n",
    "x = re.findall(pattern,text)\n",
    "print(x)"
   ]
  },
  {
   "cell_type": "markdown",
   "id": "8adc9453",
   "metadata": {},
   "source": [
    "### 9. Write a Python program that matches a string that has an 'a' followed by anything, ending in 'b'."
   ]
  },
  {
   "cell_type": "code",
   "execution_count": 11,
   "id": "cb51e7c7",
   "metadata": {},
   "outputs": [
    {
     "name": "stdout",
     "output_type": "stream",
     "text": [
      "['absorb']\n"
     ]
    }
   ],
   "source": [
    "text = \"We must learn to absorb new information quickly and effectively.\"\n",
    "pattern = r'\\ba.*?b\\b'\n",
    "matches = re.findall(pattern, text)\n",
    "\n",
    "print(matches)"
   ]
  },
  {
   "cell_type": "markdown",
   "id": "8b1255d0",
   "metadata": {},
   "source": [
    "### 10. Write a Python program that matches a word at the beginning of a string."
   ]
  },
  {
   "cell_type": "code",
   "execution_count": 12,
   "id": "d9d0d01e",
   "metadata": {},
   "outputs": [
    {
     "name": "stdout",
     "output_type": "stream",
     "text": [
      "<regex.Match object; span=(0, 4), match='Data'>\n"
     ]
    }
   ],
   "source": [
    "text = \"Data science has provided insights to many industries ranging from finance and healthcare to entertainment and retail.\"\n",
    "pattern = '^Data'\n",
    "search = re.search(pattern,text)\n",
    "print(search)"
   ]
  },
  {
   "cell_type": "markdown",
   "id": "68dc2ee0",
   "metadata": {},
   "source": [
    "### 11. Write a Python program to match a string that contains only upper and lowercase letters, numbers, and underscores."
   ]
  },
  {
   "cell_type": "code",
   "execution_count": 13,
   "id": "5e70360f",
   "metadata": {
    "scrolled": true
   },
   "outputs": [
    {
     "name": "stdout",
     "output_type": "stream",
     "text": [
      "['Hello_all123']\n"
     ]
    }
   ],
   "source": [
    "text = \"Hello_all123 aspiring data scientist\"\n",
    "pattern = r'\\w+\\_\\w+\\d+'\n",
    "matches = re.findall(pattern, text)\n",
    "print(matches)"
   ]
  },
  {
   "cell_type": "markdown",
   "id": "c0fd8e00",
   "metadata": {},
   "source": [
    "### 12. Write a Python program where a string will start with a specific number. "
   ]
  },
  {
   "cell_type": "code",
   "execution_count": 14,
   "id": "05862a01",
   "metadata": {},
   "outputs": [
    {
     "name": "stdout",
     "output_type": "stream",
     "text": [
      "['41']\n"
     ]
    }
   ],
   "source": [
    "text = \"41 of people add decimal places to make their statistics look more credible\"\n",
    "\n",
    "pattern = '^[41]+'\n",
    "search = re.findall(pattern, text)\n",
    "print(search)"
   ]
  },
  {
   "cell_type": "markdown",
   "id": "48d4bde4",
   "metadata": {},
   "source": [
    "### 13. Write a Python program to remove leading zeros from an IP address"
   ]
  },
  {
   "cell_type": "code",
   "execution_count": 15,
   "id": "30e02eb3",
   "metadata": {},
   "outputs": [
    {
     "name": "stdout",
     "output_type": "stream",
     "text": [
      "100.20.30.400\n"
     ]
    }
   ],
   "source": [
    "IP = \"0000100.20.30.400\"\n",
    "pattern = '^0+'\n",
    "x = re.sub(pattern, \"\", IP)\n",
    "print(x)"
   ]
  },
  {
   "cell_type": "markdown",
   "id": "54af72c8",
   "metadata": {},
   "source": [
    "### 14. Write a regular expression in python to match a date string in the form of Month name followed by day number and year stored in a text file.\n",
    "\n",
    "* Sample text : ' On August 15th 1947 that India was declared independent from British colonialism, and the reins of control were handed over to the leaders of the Country’.\n",
    "* Output- August 15th 1947\n",
    ">Hint- Use re.match() method here"
   ]
  },
  {
   "cell_type": "code",
   "execution_count": 16,
   "id": "1e683a39",
   "metadata": {},
   "outputs": [
    {
     "name": "stdout",
     "output_type": "stream",
     "text": [
      "['August 15th 1947']\n"
     ]
    }
   ],
   "source": [
    "with open(\"sample.txt\")as file:\n",
    "    for line in file:\n",
    "        date =re.findall(r\"\\b[A-Za-z]+\\s+\\d{1,2}(?:st|nd|rd|th)?\\s+\\d{4}\\b\",line)\n",
    "        print(date)"
   ]
  },
  {
   "cell_type": "markdown",
   "id": "3aa632eb",
   "metadata": {},
   "source": [
    "### 15. Write a Python program to search some literals strings in a string. Go to the editor\n",
    "* Sample text : 'The quick brown fox jumps over the lazy dog.'\n",
    "* Searched words : 'fox', 'dog', 'horse'"
   ]
  },
  {
   "cell_type": "code",
   "execution_count": 17,
   "id": "102a5e73",
   "metadata": {},
   "outputs": [
    {
     "name": "stdout",
     "output_type": "stream",
     "text": [
      "'fox' found in the text.\n",
      "'dog' found in the text.\n",
      "'horse' not found in the text.\n"
     ]
    }
   ],
   "source": [
    "text = 'The quick brown fox jumps over the lazy dog.'\n",
    "search_words = ['fox', 'dog', 'horse']\n",
    "\n",
    "for word in search_words:\n",
    "    pattern = re.escape(word)\n",
    "    match = re.search(pattern, text)\n",
    "    if match:\n",
    "        print(f\"'{word}' found in the text.\")\n",
    "    else:\n",
    "        print(f\"'{word}' not found in the text.\")"
   ]
  },
  {
   "cell_type": "markdown",
   "id": "d3f7d696",
   "metadata": {},
   "source": [
    "### 16. Write a Python program to search a literals string in a string and also find the location within the original string where the pattern occurs\n",
    "* Sample text : 'The quick brown fox jumps over the lazy dog.'\n",
    "* Searched words : 'fox'"
   ]
  },
  {
   "cell_type": "code",
   "execution_count": 18,
   "id": "2809181c",
   "metadata": {},
   "outputs": [
    {
     "name": "stdout",
     "output_type": "stream",
     "text": [
      "(16, 19) fox found\n"
     ]
    }
   ],
   "source": [
    "Sample_text = 'The quick brown fox jumps over the lazy dog.'\n",
    "search_word = 'fox'\n",
    "\n",
    "if search_word in Sample_text:\n",
    "    search = re.search(search_word,Sample_text)\n",
    "    print(search.span(), search_word, \"found\")\n",
    "else:\n",
    "    print(search_word, \"not found\")"
   ]
  },
  {
   "cell_type": "markdown",
   "id": "d48a78c6",
   "metadata": {},
   "source": [
    "### 17. Write a Python program to find the substrings within a string.\n",
    "* Sample text : 'Python exercises, PHP exercises, C# exercises'\n",
    "* Pattern : 'exercises'."
   ]
  },
  {
   "cell_type": "code",
   "execution_count": 19,
   "id": "df415c6e",
   "metadata": {},
   "outputs": [
    {
     "name": "stdout",
     "output_type": "stream",
     "text": [
      "['exercises', 'exercises', 'exercises']\n"
     ]
    }
   ],
   "source": [
    "Sample_text = 'Python exercises, PHP exercises, C# exercises'\n",
    "pattern = 'exercises'\n",
    "\n",
    "x= re.findall(pattern,Sample_text)\n",
    "print(x)"
   ]
  },
  {
   "cell_type": "markdown",
   "id": "ae7d5d73",
   "metadata": {},
   "source": [
    "### 18. Write a Python program to find the occurrence and position of the substrings within a string."
   ]
  },
  {
   "cell_type": "code",
   "execution_count": 20,
   "id": "36fd37da",
   "metadata": {},
   "outputs": [
    {
     "name": "stdout",
     "output_type": "stream",
     "text": [
      "('3', 'consecutive') (27, 40)\n",
      "('10', 'century') (41, 51)\n",
      "('2', 'match') (59, 66)\n"
     ]
    }
   ],
   "source": [
    "string = \"The Indian captain hit his 3 consecutive 10 century in the 2 match of the series against South Africa.\"\n",
    "pattern = re.compile(r'(\\b\\d+\\b).(\\b[a-z]+\\b)')\n",
    "\n",
    "for match in pattern.finditer(string):\n",
    "    print(match.groups(), match.span())"
   ]
  },
  {
   "cell_type": "markdown",
   "id": "1a9ac96a",
   "metadata": {},
   "source": [
    "### 19.  Write a Python program to convert a date of yyyy-mm-dd format to dd-mm-yyyy format."
   ]
  },
  {
   "cell_type": "code",
   "execution_count": 21,
   "id": "ec5986a7",
   "metadata": {},
   "outputs": [
    {
     "name": "stdout",
     "output_type": "stream",
     "text": [
      "13-07-2023\n"
     ]
    }
   ],
   "source": [
    "date = \"2023-07-13\"\n",
    "pattern = r'(\\d{4})-(\\d{2})-(\\d{2})'\n",
    "match = re.match(pattern,date)\n",
    "\n",
    "if match:\n",
    "    year = match.group(1)\n",
    "    month = match.group(2)\n",
    "    day = match.group(3)\n",
    "    print(f\"{day}-{month}-{year}\")\n",
    "else:\n",
    "    print('invalid date')"
   ]
  },
  {
   "cell_type": "markdown",
   "id": "95cba265",
   "metadata": {},
   "source": [
    "### 20. Write a Python program to find all words starting with 'a' or 'e' in a given string."
   ]
  },
  {
   "cell_type": "code",
   "execution_count": 22,
   "id": "2978dbe8",
   "metadata": {},
   "outputs": [
    {
     "name": "stdout",
     "output_type": "stream",
     "text": [
      "['elephants', 'africa']\n"
     ]
    }
   ],
   "source": [
    "string = \"Some elephants come from africa.\"\n",
    "pattern = r'[a|e]\\w+'\n",
    "\n",
    "x = re.findall(pattern,string)\n",
    "print(x)"
   ]
  },
  {
   "cell_type": "markdown",
   "id": "5f881ecc",
   "metadata": {},
   "source": [
    "### 21. Write a Python program to separate and print the numbers and their position of a given string."
   ]
  },
  {
   "cell_type": "code",
   "execution_count": 23,
   "id": "75224a75",
   "metadata": {},
   "outputs": [
    {
     "name": "stdout",
     "output_type": "stream",
     "text": [
      "3 (27, 28)\n",
      "10 (41, 43)\n",
      "2 (59, 60)\n"
     ]
    }
   ],
   "source": [
    "string = \"The Indian captain hit his 3 consecutive 10 century in the 2 match of the series against South Africa.\"\n",
    "pattern = re.compile(r'\\d+')\n",
    "\n",
    "for i in pattern.finditer(string):\n",
    "    print(i.group(),i.span())"
   ]
  },
  {
   "cell_type": "markdown",
   "id": "9215f23f",
   "metadata": {},
   "source": [
    "### 22. Write a regular expression in python program to extract maximum numeric value from a string"
   ]
  },
  {
   "cell_type": "code",
   "execution_count": 24,
   "id": "49408920",
   "metadata": {},
   "outputs": [],
   "source": [
    "def max_value(string):\n",
    "    pattern = r'\\d+'\n",
    "    matches = re.findall(pattern,string)\n",
    "    if matches:\n",
    "        max_value = max(matches, key=int)\n",
    "        return max_value\n",
    "    else:\n",
    "        return None"
   ]
  },
  {
   "cell_type": "code",
   "execution_count": 25,
   "id": "4dad95d7",
   "metadata": {},
   "outputs": [
    {
     "data": {
      "text/plain": [
       "'202'"
      ]
     },
     "execution_count": 25,
     "metadata": {},
     "output_type": "execute_result"
    }
   ],
   "source": [
    "string = \"The maximum numbers are 08, 202, 99, and 72.\"\n",
    "max_value(string)"
   ]
  },
  {
   "cell_type": "markdown",
   "id": "a6a02fff",
   "metadata": {},
   "source": [
    "### 23. Write a Regex in Python to put spaces between words starting with capital letters"
   ]
  },
  {
   "cell_type": "code",
   "execution_count": 26,
   "id": "84f0193c",
   "metadata": {},
   "outputs": [
    {
     "name": "stdout",
     "output_type": "stream",
     "text": [
      "Give Me Salt Please\n"
     ]
    }
   ],
   "source": [
    "text = \"GiveMeSaltPlease\"\n",
    "x = re.sub(r'(?<!^)(?=[A-Z])',\" \",text)\n",
    "print(x)"
   ]
  },
  {
   "cell_type": "markdown",
   "id": "58ac335c",
   "metadata": {},
   "source": [
    "### 24. Python regex to find sequences of one upper case letter followed by lower case letters"
   ]
  },
  {
   "cell_type": "code",
   "execution_count": 27,
   "id": "7f11b806",
   "metadata": {},
   "outputs": [
    {
     "name": "stdout",
     "output_type": "stream",
     "text": [
      "['Python']\n"
     ]
    }
   ],
   "source": [
    "text = 'Python exercises, PHP exercises, C# exercises'\n",
    "pattern = r\"[A-Z][a-z]+\"\n",
    "x = re.findall(pattern,text)\n",
    "print(x)"
   ]
  },
  {
   "cell_type": "markdown",
   "id": "ea6b899d",
   "metadata": {},
   "source": [
    "### 25. Write a Python program to remove duplicate words from Sentence using Regular Expression"
   ]
  },
  {
   "cell_type": "code",
   "execution_count": 28,
   "id": "76db278e",
   "metadata": {},
   "outputs": [
    {
     "name": "stdout",
     "output_type": "stream",
     "text": [
      "hello to the world\n"
     ]
    }
   ],
   "source": [
    "text = \"hello hello to to the the world world\"\n",
    "pattern = r'\\b(\\w+)(?:\\W+\\1\\b)+'\n",
    "x = re.sub(pattern, r'\\1', text)\n",
    "print(x)"
   ]
  },
  {
   "cell_type": "markdown",
   "id": "eba53c6e",
   "metadata": {},
   "source": [
    "### 26. Write a python program using RegEx to accept string ending with alphanumeric character."
   ]
  },
  {
   "cell_type": "code",
   "execution_count": 29,
   "id": "58a47614",
   "metadata": {},
   "outputs": [
    {
     "name": "stdout",
     "output_type": "stream",
     "text": [
      "<regex.Match object; span=(0, 15), match='Alphanumeric568'>\n"
     ]
    }
   ],
   "source": [
    "string = \"Alphanumeric568\"\n",
    "pattern = '\\w+$'\n",
    "accept = re.search(pattern,string)\n",
    "print(accept)"
   ]
  },
  {
   "cell_type": "markdown",
   "id": "e2950cef",
   "metadata": {},
   "source": [
    "### 27. Write a python program using RegEx to extract the hashtags.\n",
    "* Sample Text: text = \"\"\"RT @kapil_kausik: #Doltiwal I mean #xyzabc is \"hurt\" by #Demonetization as the same has rendered USELESS <ed><U+00A0><U+00BD><ed><U+00B1><U+0089> \"acquired funds\" No wo\"\"\"\n",
    "* Output: ['#Doltiwal', '#xyzabc', '#Demonetization']\n"
   ]
  },
  {
   "cell_type": "code",
   "execution_count": 30,
   "id": "cd6fb568",
   "metadata": {},
   "outputs": [
    {
     "name": "stdout",
     "output_type": "stream",
     "text": [
      "['#Doltiwal', '#xyzabc', '#Demonetization']\n"
     ]
    }
   ],
   "source": [
    "text ='RT @kapil_kausik: #Doltiwal I mean #xyzabc is \"hurt\" by #Demonetization as the same has rendered USELESS <U+00A0><U+00BD><U+00B1><U+0089> \"acquired funds\" No wo'\n",
    "x = re.findall(r'#\\w+',text)\n",
    "print(x)"
   ]
  },
  {
   "cell_type": "markdown",
   "id": "4e683e69",
   "metadata": {},
   "source": [
    "### 28. Write a python program using RegEx to remove <U+..> like symbols\n",
    "Check the below sample text, there are strange symbols something of the sort <U+..> all over the place. You need to come up with a general Regex expression that will cover all such symbols.\n",
    "* Sample Text: \"@Jags123456 Bharat band on 28??<ed><U+00A0><U+00BD><ed><U+00B8><U+0082>Those who  are protesting #demonetization  are all different party leaders\"\n",
    "* Output: @Jags123456 Bharat band on 28??<ed><ed>Those who  are protesting #demonetization  are all different party leaders"
   ]
  },
  {
   "cell_type": "code",
   "execution_count": 31,
   "id": "6446a796",
   "metadata": {},
   "outputs": [
    {
     "name": "stdout",
     "output_type": "stream",
     "text": [
      "@Jags123456 Bharat band on 28??Those who are protesting #demonetization are all different party leaders\n"
     ]
    }
   ],
   "source": [
    "Sample_Text = \"@Jags123456 Bharat band on 28??<U+00A0><U+00BD><U+00B8><U+0082>Those who are protesting #demonetization are all different party leaders\"\n",
    "pattern = r'<U\\+\\w+>'\n",
    "remove = re.sub(pattern, \"\", Sample_Text)\n",
    "print(remove)"
   ]
  },
  {
   "cell_type": "markdown",
   "id": "078f56d7",
   "metadata": {},
   "source": [
    "### 29.  Write a python program to extract dates from the text stored in the text file.\n",
    "* Sample Text: Ron was born on 12-09-1992 and he was admitted to school 15-12-1999.\n",
    "* Store this sample text in the file and then extract dates."
   ]
  },
  {
   "cell_type": "code",
   "execution_count": 32,
   "id": "ee34daeb",
   "metadata": {},
   "outputs": [
    {
     "name": "stdout",
     "output_type": "stream",
     "text": [
      "['12-09-1992', '15-12-1999']\n"
     ]
    }
   ],
   "source": [
    "with open ('regex.txt') as file:\n",
    "    for line in file:\n",
    "        pattern = r'\\d{2}-\\d{2}-\\d{4}'\n",
    "        dates = re.findall(pattern, line)\n",
    "        print(dates)"
   ]
  },
  {
   "cell_type": "markdown",
   "id": "1f7de8bc",
   "metadata": {},
   "source": [
    "### 30. Write a Python program to replace all occurrences of a space, comma, or dot with a colon.\n",
    "* Sample Text- 'Python Exercises, PHP exercises.'\n",
    "* Output: Python:Exercises::PHP:exercises:"
   ]
  },
  {
   "cell_type": "code",
   "execution_count": 33,
   "id": "b087403a",
   "metadata": {},
   "outputs": [
    {
     "name": "stdout",
     "output_type": "stream",
     "text": [
      "Python:Exercises::PHP:exercises:\n"
     ]
    }
   ],
   "source": [
    "Sample_Text = \"Python Exercises, PHP exercises.\"\n",
    "\n",
    "x = re.sub(r\"[\\s,.]\", \":\", Sample_Text)\n",
    "print(x)"
   ]
  }
 ],
 "metadata": {
  "kernelspec": {
   "display_name": "Python 3 (ipykernel)",
   "language": "python",
   "name": "python3"
  },
  "language_info": {
   "codemirror_mode": {
    "name": "ipython",
    "version": 3
   },
   "file_extension": ".py",
   "mimetype": "text/x-python",
   "name": "python",
   "nbconvert_exporter": "python",
   "pygments_lexer": "ipython3",
   "version": "3.9.13"
  }
 },
 "nbformat": 4,
 "nbformat_minor": 5
}
